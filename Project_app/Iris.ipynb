{
 "cells": [
  {
   "cell_type": "code",
   "execution_count": 1,
   "id": "1e1d4344",
   "metadata": {},
   "outputs": [],
   "source": [
    "import pandas as pd\n",
    "import numpy as np\n",
    "import matplotlib.pyplot as plt\n",
    "import seaborn as sns\n",
    "import pickle\n",
    "import json\n",
    "from sklearn.model_selection import train_test_split\n",
    "from sklearn.linear_model import LogisticRegression\n",
    "from sklearn.metrics import accuracy_score,classification_report,roc_curve,f1_score,confusion_matrix\n",
    "from scipy.stats import zscore\n",
    "import warnings\n",
    "warnings.filterwarnings(\"ignore\")"
   ]
  },
  {
   "cell_type": "code",
   "execution_count": 2,
   "id": "d35c070c",
   "metadata": {},
   "outputs": [],
   "source": [
    "#Loading a dataset from sklearn:\n",
    "df = pd.read_csv(\"Iris.csv\")"
   ]
  },
  {
   "cell_type": "code",
   "execution_count": 3,
   "id": "7c8b9c91",
   "metadata": {},
   "outputs": [
    {
     "data": {
      "text/html": [
       "<div>\n",
       "<style scoped>\n",
       "    .dataframe tbody tr th:only-of-type {\n",
       "        vertical-align: middle;\n",
       "    }\n",
       "\n",
       "    .dataframe tbody tr th {\n",
       "        vertical-align: top;\n",
       "    }\n",
       "\n",
       "    .dataframe thead th {\n",
       "        text-align: right;\n",
       "    }\n",
       "</style>\n",
       "<table border=\"1\" class=\"dataframe\">\n",
       "  <thead>\n",
       "    <tr style=\"text-align: right;\">\n",
       "      <th></th>\n",
       "      <th>SepalLengthCm</th>\n",
       "      <th>SepalWidthCm</th>\n",
       "      <th>PetalLengthCm</th>\n",
       "      <th>PetalWidthCm</th>\n",
       "      <th>Species</th>\n",
       "    </tr>\n",
       "  </thead>\n",
       "  <tbody>\n",
       "    <tr>\n",
       "      <th>0</th>\n",
       "      <td>5.1</td>\n",
       "      <td>3.5</td>\n",
       "      <td>1.4</td>\n",
       "      <td>0.2</td>\n",
       "      <td>Iris-setosa</td>\n",
       "    </tr>\n",
       "    <tr>\n",
       "      <th>1</th>\n",
       "      <td>4.9</td>\n",
       "      <td>3.0</td>\n",
       "      <td>1.4</td>\n",
       "      <td>0.2</td>\n",
       "      <td>Iris-setosa</td>\n",
       "    </tr>\n",
       "    <tr>\n",
       "      <th>2</th>\n",
       "      <td>4.7</td>\n",
       "      <td>3.2</td>\n",
       "      <td>1.3</td>\n",
       "      <td>0.2</td>\n",
       "      <td>Iris-setosa</td>\n",
       "    </tr>\n",
       "    <tr>\n",
       "      <th>3</th>\n",
       "      <td>4.6</td>\n",
       "      <td>3.1</td>\n",
       "      <td>1.5</td>\n",
       "      <td>0.2</td>\n",
       "      <td>Iris-setosa</td>\n",
       "    </tr>\n",
       "    <tr>\n",
       "      <th>4</th>\n",
       "      <td>5.0</td>\n",
       "      <td>3.6</td>\n",
       "      <td>1.4</td>\n",
       "      <td>0.2</td>\n",
       "      <td>Iris-setosa</td>\n",
       "    </tr>\n",
       "    <tr>\n",
       "      <th>...</th>\n",
       "      <td>...</td>\n",
       "      <td>...</td>\n",
       "      <td>...</td>\n",
       "      <td>...</td>\n",
       "      <td>...</td>\n",
       "    </tr>\n",
       "    <tr>\n",
       "      <th>145</th>\n",
       "      <td>6.7</td>\n",
       "      <td>3.0</td>\n",
       "      <td>5.2</td>\n",
       "      <td>2.3</td>\n",
       "      <td>Iris-virginica</td>\n",
       "    </tr>\n",
       "    <tr>\n",
       "      <th>146</th>\n",
       "      <td>6.3</td>\n",
       "      <td>2.5</td>\n",
       "      <td>5.0</td>\n",
       "      <td>1.9</td>\n",
       "      <td>Iris-virginica</td>\n",
       "    </tr>\n",
       "    <tr>\n",
       "      <th>147</th>\n",
       "      <td>6.5</td>\n",
       "      <td>3.0</td>\n",
       "      <td>5.2</td>\n",
       "      <td>2.0</td>\n",
       "      <td>Iris-virginica</td>\n",
       "    </tr>\n",
       "    <tr>\n",
       "      <th>148</th>\n",
       "      <td>6.2</td>\n",
       "      <td>3.4</td>\n",
       "      <td>5.4</td>\n",
       "      <td>2.3</td>\n",
       "      <td>Iris-virginica</td>\n",
       "    </tr>\n",
       "    <tr>\n",
       "      <th>149</th>\n",
       "      <td>5.9</td>\n",
       "      <td>3.0</td>\n",
       "      <td>5.1</td>\n",
       "      <td>1.8</td>\n",
       "      <td>Iris-virginica</td>\n",
       "    </tr>\n",
       "  </tbody>\n",
       "</table>\n",
       "<p>150 rows × 5 columns</p>\n",
       "</div>"
      ],
      "text/plain": [
       "     SepalLengthCm  SepalWidthCm  PetalLengthCm  PetalWidthCm         Species\n",
       "0              5.1           3.5            1.4           0.2     Iris-setosa\n",
       "1              4.9           3.0            1.4           0.2     Iris-setosa\n",
       "2              4.7           3.2            1.3           0.2     Iris-setosa\n",
       "3              4.6           3.1            1.5           0.2     Iris-setosa\n",
       "4              5.0           3.6            1.4           0.2     Iris-setosa\n",
       "..             ...           ...            ...           ...             ...\n",
       "145            6.7           3.0            5.2           2.3  Iris-virginica\n",
       "146            6.3           2.5            5.0           1.9  Iris-virginica\n",
       "147            6.5           3.0            5.2           2.0  Iris-virginica\n",
       "148            6.2           3.4            5.4           2.3  Iris-virginica\n",
       "149            5.9           3.0            5.1           1.8  Iris-virginica\n",
       "\n",
       "[150 rows x 5 columns]"
      ]
     },
     "execution_count": 3,
     "metadata": {},
     "output_type": "execute_result"
    }
   ],
   "source": [
    "df = df.drop(\"Id\",axis=1)\n",
    "df"
   ]
  },
  {
   "cell_type": "code",
   "execution_count": 4,
   "id": "987541e5",
   "metadata": {},
   "outputs": [
    {
     "data": {
      "text/plain": [
       "array(['Iris-setosa', 'Iris-versicolor', 'Iris-virginica'], dtype=object)"
      ]
     },
     "execution_count": 4,
     "metadata": {},
     "output_type": "execute_result"
    }
   ],
   "source": [
    "# Label Encoding in \"Species\" column:\n",
    "\n",
    "df[\"Species\"].unique()"
   ]
  },
  {
   "cell_type": "code",
   "execution_count": 5,
   "id": "512c8814",
   "metadata": {},
   "outputs": [],
   "source": [
    "df[\"Species\"] = df[\"Species\"].replace({\"Iris-setosa\":0, 'Iris-versicolor':1, 'Iris-virginica':2})"
   ]
  },
  {
   "cell_type": "code",
   "execution_count": 6,
   "id": "1cd9f1ce",
   "metadata": {},
   "outputs": [
    {
     "name": "stdout",
     "output_type": "stream",
     "text": [
      "<class 'pandas.core.frame.DataFrame'>\n",
      "RangeIndex: 150 entries, 0 to 149\n",
      "Data columns (total 5 columns):\n",
      " #   Column         Non-Null Count  Dtype  \n",
      "---  ------         --------------  -----  \n",
      " 0   SepalLengthCm  150 non-null    float64\n",
      " 1   SepalWidthCm   150 non-null    float64\n",
      " 2   PetalLengthCm  150 non-null    float64\n",
      " 3   PetalWidthCm   150 non-null    float64\n",
      " 4   Species        150 non-null    int64  \n",
      "dtypes: float64(4), int64(1)\n",
      "memory usage: 6.0 KB\n"
     ]
    }
   ],
   "source": [
    "df.info()"
   ]
  },
  {
   "cell_type": "code",
   "execution_count": 7,
   "id": "2276ca18",
   "metadata": {},
   "outputs": [],
   "source": [
    "# Define a function for getting extream outliers:\n",
    "def get_outliers(dataframe,col):\n",
    "    z_score = zscore(dataframe[col])\n",
    "    indx_outliers = np.where(z_score>=3)\n",
    "    if indx_outliers[0].size>0:\n",
    "        return dataframe[col].iloc[indx_outliers]\n",
    "    else:\n",
    "        return \"NoOutliers\""
   ]
  },
  {
   "cell_type": "code",
   "execution_count": 8,
   "id": "653670ee",
   "metadata": {},
   "outputs": [
    {
     "name": "stdout",
     "output_type": "stream",
     "text": [
      "NoOutliers\n",
      "-------------------------------------\n",
      "15    4.4\n",
      "Name: SepalWidthCm, dtype: float64\n",
      "-------------------------------------\n",
      "NoOutliers\n",
      "-------------------------------------\n",
      "NoOutliers\n",
      "-------------------------------------\n",
      "NoOutliers\n",
      "-------------------------------------\n"
     ]
    }
   ],
   "source": [
    "# Check for outliers in columns:\n",
    "\n",
    "for col in df.columns:\n",
    "    print(get_outliers(df,col))\n",
    "    print(\"-------------------------------------\")"
   ]
  },
  {
   "cell_type": "code",
   "execution_count": 9,
   "id": "3c4d1d3b",
   "metadata": {},
   "outputs": [
    {
     "data": {
      "text/plain": [
       "4.2"
      ]
     },
     "execution_count": 9,
     "metadata": {},
     "output_type": "execute_result"
    }
   ],
   "source": [
    "# We have one extream outlier in column \"sepal_width_(cm)\" which is largest value so we can replace this with 2nd largest value in same column:\n",
    "\n",
    "second_largestValue = df[\"SepalWidthCm\"].sort_values(ascending=False).to_list()[1]\n",
    "second_largestValue"
   ]
  },
  {
   "cell_type": "code",
   "execution_count": 10,
   "id": "d9db4903",
   "metadata": {},
   "outputs": [
    {
     "data": {
      "text/plain": [
       "0     3.5\n",
       "1     3.0\n",
       "2     3.2\n",
       "3     3.1\n",
       "4     3.6\n",
       "5     3.9\n",
       "6     3.4\n",
       "7     3.4\n",
       "8     2.9\n",
       "9     3.1\n",
       "10    3.7\n",
       "11    3.4\n",
       "12    3.0\n",
       "13    3.0\n",
       "14    4.0\n",
       "15    4.2\n",
       "16    3.9\n",
       "17    3.5\n",
       "18    3.8\n",
       "19    3.8\n",
       "Name: SepalWidthCm, dtype: float64"
      ]
     },
     "execution_count": 10,
     "metadata": {},
     "output_type": "execute_result"
    }
   ],
   "source": [
    "# Removing outlier by replacing it with second largest value from the same column:\n",
    "df[\"SepalWidthCm\"][df[\"SepalWidthCm\"] == 4.4] =second_largestValue\n",
    "df[\"SepalWidthCm\"].head(20)"
   ]
  },
  {
   "cell_type": "code",
   "execution_count": 11,
   "id": "3e4faa71",
   "metadata": {},
   "outputs": [
    {
     "name": "stdout",
     "output_type": "stream",
     "text": [
      "NoOutliers\n",
      "-------------------------------------\n",
      "NoOutliers\n",
      "-------------------------------------\n",
      "NoOutliers\n",
      "-------------------------------------\n",
      "NoOutliers\n",
      "-------------------------------------\n",
      "NoOutliers\n",
      "-------------------------------------\n"
     ]
    }
   ],
   "source": [
    "# Again Check for Outliers: Found No Outliers!\n",
    "for col in df.columns:\n",
    "    print(get_outliers(df,col))\n",
    "    print(\"-------------------------------------\")"
   ]
  },
  {
   "cell_type": "markdown",
   "id": "1f563179",
   "metadata": {},
   "source": [
    "# Train Model:"
   ]
  },
  {
   "cell_type": "code",
   "execution_count": 12,
   "id": "609bef91",
   "metadata": {},
   "outputs": [],
   "source": [
    "# Spliting data into training and testing data:\n",
    "x = df.drop(\"Species\", axis=1)\n",
    "y = df[\"Species\"]\n",
    "x_train,x_test,y_train,y_test = train_test_split(x,y,test_size=0.2, random_state=2023, stratify=y)"
   ]
  },
  {
   "cell_type": "code",
   "execution_count": 13,
   "id": "71ef5d82",
   "metadata": {},
   "outputs": [
    {
     "data": {
      "text/plain": [
       "LogisticRegression()"
      ]
     },
     "execution_count": 13,
     "metadata": {},
     "output_type": "execute_result"
    }
   ],
   "source": [
    "# Creating LogisticRegression model object:\n",
    "\n",
    "model = LogisticRegression()\n",
    "\n",
    "# Fitting trainging data into model:\n",
    "\n",
    "model.fit(x_train,y_train)"
   ]
  },
  {
   "cell_type": "code",
   "execution_count": 14,
   "id": "0f7494df",
   "metadata": {},
   "outputs": [],
   "source": [
    "y_pred_train = model.predict(x_train)\n",
    "y_pred_test = model.predict(x_test)"
   ]
  },
  {
   "cell_type": "code",
   "execution_count": 15,
   "id": "6b2bdeff",
   "metadata": {},
   "outputs": [],
   "source": [
    "# Finding Accuracy for both training and testing:\n",
    "training_accuracy = accuracy_score(y_train,y_pred_train)\n",
    "testing_accuracy = accuracy_score(y_test,y_pred_test)"
   ]
  },
  {
   "cell_type": "markdown",
   "id": "e8cb1204",
   "metadata": {},
   "source": [
    "### Accuracy Score:"
   ]
  },
  {
   "cell_type": "code",
   "execution_count": 16,
   "id": "fc3b9c16",
   "metadata": {},
   "outputs": [
    {
     "name": "stdout",
     "output_type": "stream",
     "text": [
      "Training Accuracy: 0.975\n",
      "Testing Accuracy: 0.9666666666666667\n"
     ]
    }
   ],
   "source": [
    "print(f\"Training Accuracy: {training_accuracy}\")\n",
    "print(f\"Testing Accuracy: {testing_accuracy}\")"
   ]
  },
  {
   "cell_type": "markdown",
   "id": "d4958ad0",
   "metadata": {},
   "source": [
    "### Classification Report:"
   ]
  },
  {
   "cell_type": "code",
   "execution_count": 17,
   "id": "5e48558a",
   "metadata": {},
   "outputs": [
    {
     "name": "stdout",
     "output_type": "stream",
     "text": [
      "Classification Report for Training:\n",
      "\n",
      "              precision    recall  f1-score   support\n",
      "\n",
      "           0       1.00      1.00      1.00        40\n",
      "           1       0.97      0.95      0.96        40\n",
      "           2       0.95      0.97      0.96        40\n",
      "\n",
      "    accuracy                           0.97       120\n",
      "   macro avg       0.98      0.97      0.97       120\n",
      "weighted avg       0.98      0.97      0.97       120\n",
      "\n",
      "------------------------------------------------------------------\n",
      "------------------------------------------------------------------\n",
      "\n",
      "Classification Report for Testing:\n",
      "\n",
      "              precision    recall  f1-score   support\n",
      "\n",
      "           0       1.00      1.00      1.00        10\n",
      "           1       1.00      0.90      0.95        10\n",
      "           2       0.91      1.00      0.95        10\n",
      "\n",
      "    accuracy                           0.97        30\n",
      "   macro avg       0.97      0.97      0.97        30\n",
      "weighted avg       0.97      0.97      0.97        30\n",
      "\n"
     ]
    }
   ],
   "source": [
    "clf_training = classification_report(y_train,y_pred_train)\n",
    "print(\"Classification Report for Training:\\n\")\n",
    "print(clf_training)\n",
    "print(\"------------------------------------------------------------------\")\n",
    "print(\"------------------------------------------------------------------\")\n",
    "print()\n",
    "clf_testing = classification_report(y_test,y_pred_test)\n",
    "print(\"Classification Report for Testing:\\n\")\n",
    "print(clf_testing)"
   ]
  },
  {
   "cell_type": "code",
   "execution_count": null,
   "id": "8aa0a987",
   "metadata": {},
   "outputs": [],
   "source": []
  },
  {
   "cell_type": "code",
   "execution_count": 18,
   "id": "c51aa462",
   "metadata": {},
   "outputs": [
    {
     "data": {
      "text/plain": [
       "array([0.92338921, 0.67259329, 0.79607099, 0.74516909, 0.85331887,\n",
       "       0.0440894 , 0.02825988, 0.0160859 , 0.02384354, 0.02038464,\n",
       "       0.03370974, 0.02148846, 0.0439951 , 0.02850615, 0.03194007,\n",
       "       0.04651699, 0.86848683, 0.8969167 , 0.53041198, 0.78595533,\n",
       "       0.01768959, 0.18670997, 0.21201708, 0.05651486, 0.23709778,\n",
       "       0.74430865, 0.01653502, 0.90249837, 0.91958145, 0.0869517 ,\n",
       "       0.03370974, 0.04197088, 0.39921088, 0.06147581, 0.02956764,\n",
       "       0.21116357, 0.79416202, 0.00573581, 0.58416137, 0.01540673,\n",
       "       0.022496  , 0.13429374, 0.00148448, 0.02920725, 0.01449158,\n",
       "       0.91541508, 0.42350262, 0.4633548 , 0.27523985, 0.92418091,\n",
       "       0.90019284, 0.01253907, 0.89565291, 0.00566672, 0.94503813,\n",
       "       0.82566414, 0.03875875, 0.02671111, 0.00698129, 0.94305741,\n",
       "       0.01532693, 0.01372863, 0.78891929, 0.02601122, 0.01909274,\n",
       "       0.94265267, 0.96903045, 0.679661  , 0.10051779, 0.07300403,\n",
       "       0.00940925, 0.15054315, 0.83292684, 0.76796396, 0.95207203,\n",
       "       0.0423982 , 0.0176986 , 0.02041927, 0.0236735 , 0.03318491,\n",
       "       0.05118071, 0.01541128, 0.74670516, 0.12021271, 0.01866268,\n",
       "       0.82416035, 0.02390196, 0.01644505, 0.34763293, 0.03854718,\n",
       "       0.02077609, 0.94322933, 0.43263002, 0.94705709, 0.45326573,\n",
       "       0.13404516, 0.03443136, 0.8929555 , 0.12526212, 0.37934077,\n",
       "       0.02595018, 0.02822073, 0.16581328, 0.0497909 , 0.02155489,\n",
       "       0.02762811, 0.92464437, 0.90200718, 0.01373783, 0.9285428 ,\n",
       "       0.91833662, 0.17993507, 0.0314553 , 0.03115694, 0.04163095,\n",
       "       0.83570619, 0.94416028, 0.09351959, 0.00383826, 0.01656405])"
      ]
     },
     "execution_count": 18,
     "metadata": {},
     "output_type": "execute_result"
    }
   ],
   "source": [
    "y_prob_train = model.predict_proba(x_train)\n",
    "y_prob_train[:,1]"
   ]
  },
  {
   "cell_type": "code",
   "execution_count": 19,
   "id": "a1286971",
   "metadata": {},
   "outputs": [],
   "source": [
    "fpr,tpr,thresh = roc_curve(y_train,y_prob_train[:,1],pos_label=2)"
   ]
  },
  {
   "cell_type": "code",
   "execution_count": 20,
   "id": "77965761",
   "metadata": {},
   "outputs": [
    {
     "data": {
      "text/plain": [
       "array([0.    , 0.0125, 0.475 , 0.475 , 0.4875, 0.4875, 0.5   , 0.5   ,\n",
       "       0.5125, 0.5125, 0.5375, 0.5375, 0.55  , 0.55  , 0.5875, 0.5875,\n",
       "       0.6125, 0.6625, 0.6625, 0.6875, 0.6875, 0.8   , 0.8   , 0.9125,\n",
       "       0.9125, 0.9375, 0.9375, 0.95  , 0.95  , 1.    , 1.    ])"
      ]
     },
     "execution_count": 20,
     "metadata": {},
     "output_type": "execute_result"
    }
   ],
   "source": [
    "fpr"
   ]
  },
  {
   "cell_type": "code",
   "execution_count": 21,
   "id": "8f326504",
   "metadata": {},
   "outputs": [
    {
     "data": {
      "text/plain": [
       "array([0.   , 0.   , 0.   , 0.1  , 0.1  , 0.15 , 0.15 , 0.575, 0.575,\n",
       "       0.6  , 0.6  , 0.65 , 0.65 , 0.675, 0.675, 0.7  , 0.7  , 0.7  ,\n",
       "       0.725, 0.725, 0.75 , 0.75 , 0.775, 0.775, 0.8  , 0.8  , 0.85 ,\n",
       "       0.85 , 0.875, 0.875, 1.   ])"
      ]
     },
     "execution_count": 21,
     "metadata": {},
     "output_type": "execute_result"
    }
   ],
   "source": [
    "tpr"
   ]
  },
  {
   "cell_type": "code",
   "execution_count": 22,
   "id": "3b54d9c4",
   "metadata": {},
   "outputs": [
    {
     "data": {
      "text/plain": [
       "array([1.96903045e+00, 9.69030448e-01, 5.84161366e-01, 4.32630023e-01,\n",
       "       4.23502616e-01, 3.79340772e-01, 3.47632929e-01, 6.14758062e-02,\n",
       "       5.65148649e-02, 5.11807077e-02, 4.65169869e-02, 4.39950990e-02,\n",
       "       4.23982046e-02, 4.19708835e-02, 3.85471834e-02, 3.44313619e-02,\n",
       "       3.37097357e-02, 3.11569416e-02, 2.95676436e-02, 2.85061477e-02,\n",
       "       2.82598835e-02, 2.24960009e-02, 2.15548850e-02, 1.65640536e-02,\n",
       "       1.65350238e-02, 1.60859044e-02, 1.54067282e-02, 1.53269277e-02,\n",
       "       1.44915832e-02, 9.40925200e-03, 1.48447618e-03])"
      ]
     },
     "execution_count": 22,
     "metadata": {},
     "output_type": "execute_result"
    }
   ],
   "source": [
    "thresh"
   ]
  },
  {
   "cell_type": "code",
   "execution_count": 23,
   "id": "cf7dc782",
   "metadata": {},
   "outputs": [
    {
     "data": {
      "text/plain": [
       "Text(0.5, 1.0, 'Receiver Operating Charaacteristics Curve')"
      ]
     },
     "execution_count": 23,
     "metadata": {},
     "output_type": "execute_result"
    },
    {
     "data": {
      "image/png": "[encoded data removed]",
      "text/plain": [
       "<Figure size 432x288 with 1 Axes>"
      ]
     },
     "metadata": {
      "needs_background": "light"
     },
     "output_type": "display_data"
    }
   ],
   "source": [
    "plt.plot(fpr,tpr)\n",
    "plt.xlabel(\"False positive Rate(FPR)\")\n",
    "plt.ylabel(\"True Positive rate(TPR)\")\n",
    "plt.title(\"Receiver Operating Charaacteristics Curve\")"
   ]
  },
  {
   "cell_type": "code",
   "execution_count": 24,
   "id": "9342bc59",
   "metadata": {},
   "outputs": [],
   "source": [
    "columns = df.columns.to_list()\n",
    "Project_data = {\"Labeled_data\" : {\"Species\" : {\"Iris-setosa\":0, 'Iris-versicolor':1, 'Iris-virginica':2}},\n",
    "                \"Columns\":columns}"
   ]
  },
  {
   "cell_type": "code",
   "execution_count": 25,
   "id": "2c5c1122",
   "metadata": {},
   "outputs": [
    {
     "data": {
      "text/plain": [
       "{'Labeled_data': {'Species': {'Iris-setosa': 0,\n",
       "   'Iris-versicolor': 1,\n",
       "   'Iris-virginica': 2}},\n",
       " 'Columns': ['SepalLengthCm',\n",
       "  'SepalWidthCm',\n",
       "  'PetalLengthCm',\n",
       "  'PetalWidthCm',\n",
       "  'Species']}"
      ]
     },
     "execution_count": 25,
     "metadata": {},
     "output_type": "execute_result"
    }
   ],
   "source": [
    "Project_data"
   ]
  },
  {
   "cell_type": "code",
   "execution_count": 26,
   "id": "235252d7",
   "metadata": {},
   "outputs": [],
   "source": [
    "# Dump the model into pickle file:\n",
    "\n",
    "with open (\"model.pkl\",\"wb\") as f:\n",
    "    pickle.dump(model,f)"
   ]
  },
  {
   "cell_type": "code",
   "execution_count": 27,
   "id": "b9b71a96",
   "metadata": {},
   "outputs": [],
   "source": [
    "with open (\"Project_Data.json\",\"w\") as f:\n",
    "    json.dump(Project_data,f)"
   ]
  },
  {
   "cell_type": "code",
   "execution_count": null,
   "id": "c0b7ecf5",
   "metadata": {},
   "outputs": [],
   "source": []
  },
  {
   "cell_type": "code",
   "execution_count": null,
   "id": "3e8eb8fa",
   "metadata": {},
   "outputs": [],
   "source": []
  },
  {
   "cell_type": "code",
   "execution_count": null,
   "id": "4cd85585",
   "metadata": {},
   "outputs": [],
   "source": []
  },
  {
   "cell_type": "code",
   "execution_count": null,
   "id": "a121b08f",
   "metadata": {},
   "outputs": [],
   "source": []
  },
  {
   "cell_type": "code",
   "execution_count": null,
   "id": "9c1add79",
   "metadata": {},
   "outputs": [],
   "source": []
  }
 ],
 "metadata": {
  "kernelspec": {
   "display_name": "Python 3 (ipykernel)",
   "language": "python",
   "name": "python3"
  },
  "language_info": {
   "codemirror_mode": {
    "name": "ipython",
    "version": 3
   },
   "file_extension": ".py",
   "mimetype": "text/x-python",
   "name": "python",
   "nbconvert_exporter": "python",
   "pygments_lexer": "ipython3",
   "version": "3.9.12"
  }
 },
 "nbformat": 4,
 "nbformat_minor": 5
}
